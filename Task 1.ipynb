{
 "cells": [
  {
   "cell_type": "code",
   "execution_count": 1,
   "id": "da3c78b8-2566-4c40-bfec-99843996bc52",
   "metadata": {},
   "outputs": [
    {
     "name": "stdout",
     "output_type": "stream",
     "text": [
      "original list: [1, 2, 3, 4, 5]\n"
     ]
    }
   ],
   "source": [
    "#creating a list\n",
    "my_list = [1,2,3,4,5]\n",
    "\n",
    "print(\"original list:\" , my_list)"
   ]
  },
  {
   "cell_type": "code",
   "execution_count": 2,
   "id": "ff4c2d7b-441f-4841-92cf-eb9f02796a1f",
   "metadata": {},
   "outputs": [
    {
     "name": "stdout",
     "output_type": "stream",
     "text": [
      " new element added list: [1, 2, 3, 4, 5, 6]\n"
     ]
    }
   ],
   "source": [
    "#Adding a new element in list\n",
    "my_list.append(6)\n",
    "\n",
    "print(\" new element added list:\" ,my_list)"
   ]
  },
  {
   "cell_type": "code",
   "execution_count": 3,
   "id": "aceb0132-6882-49b6-8972-3f338e2f63e6",
   "metadata": {},
   "outputs": [
    {
     "name": "stdout",
     "output_type": "stream",
     "text": [
      "new list : [1, 2, 4, 5, 6]\n"
     ]
    }
   ],
   "source": [
    "#Removing an element from list\n",
    "my_list.remove(3)\n",
    "\n",
    "print(\"new list :\", my_list)\n"
   ]
  },
  {
   "cell_type": "code",
   "execution_count": 4,
   "id": "5696d3de-0b35-48e6-bb26-d4061ab8803f",
   "metadata": {},
   "outputs": [
    {
     "name": "stdout",
     "output_type": "stream",
     "text": [
      "new modified list : [1, 40, 4, 5, 6]\n"
     ]
    }
   ],
   "source": [
    "#modifying the list\n",
    "my_list[1] = 40\n",
    "\n",
    "print(\"new modified list :\" , my_list)"
   ]
  },
  {
   "cell_type": "code",
   "execution_count": 5,
   "id": "619dcb54-acf9-43f5-b797-d0d110f893cc",
   "metadata": {},
   "outputs": [
    {
     "name": "stdout",
     "output_type": "stream",
     "text": [
      "final updated list: [1, 40, 4, 5, 6]\n"
     ]
    }
   ],
   "source": [
    "#final updated list\n",
    "print(\"final updated list:\" ,my_list)"
   ]
  },
  {
   "cell_type": "code",
   "execution_count": null,
   "id": "04052411-4ea4-4032-8b56-f7e0402e26f4",
   "metadata": {},
   "outputs": [],
   "source": []
  },
  {
   "cell_type": "code",
   "execution_count": 2,
   "id": "220ac8ba-cec5-4d05-b2e6-5644c7a53df4",
   "metadata": {},
   "outputs": [
    {
     "name": "stdout",
     "output_type": "stream",
     "text": [
      "original dictionary: {'name': 'john', 'age': '20', 'city': 'mumbai'}\n"
     ]
    }
   ],
   "source": [
    "#creating a dictionary\n",
    "my_dict = {\n",
    "             \"name\":\"john\",\n",
    "             \"age\":\"20\",\n",
    "            \"city\": \"mumbai\"\n",
    "}\n",
    "print(\"original dictionary:\" , my_dict)"
   ]
  },
  {
   "cell_type": "code",
   "execution_count": 5,
   "id": "7040692d-24bb-4f10-be40-fda449f98fe2",
   "metadata": {},
   "outputs": [
    {
     "name": "stdout",
     "output_type": "stream",
     "text": [
      "new dictionary: {'name': 'john', 'age': '20', 'city': 'mumbai', 'gender': 'male'}\n"
     ]
    }
   ],
   "source": [
    "#Adding a new element in dictionary\n",
    "my_dict[\"gender\"] =\"male\"\n",
    "print(\"new dictionary:\",my_dict)"
   ]
  },
  {
   "cell_type": "code",
   "execution_count": 6,
   "id": "d7665aee-d49e-44d9-88b4-53330f64b73e",
   "metadata": {},
   "outputs": [
    {
     "name": "stdout",
     "output_type": "stream",
     "text": [
      "new dictionary: {'name': 'john', 'city': 'mumbai', 'gender': 'male'}\n"
     ]
    }
   ],
   "source": [
    "# Removing an element from dictionary\n",
    "del my_dict[\"age\"]\n",
    "print(\"new dictionary:\",my_dict)"
   ]
  },
  {
   "cell_type": "code",
   "execution_count": 7,
   "id": "582b0688-8a7a-46bf-9793-926aebf43cfb",
   "metadata": {},
   "outputs": [
    {
     "name": "stdout",
     "output_type": "stream",
     "text": [
      "new dictionary: {'name': 'john', 'city': 'delhi', 'gender': 'male'}\n"
     ]
    }
   ],
   "source": [
    "#modifying dictionary\n",
    "my_dict[\"city\"] = \"delhi\"\n",
    "print(\"new dictionary:\",my_dict)"
   ]
  },
  {
   "cell_type": "code",
   "execution_count": 8,
   "id": "579b2b3b-b83e-47c7-bf81-9b8f6e615b73",
   "metadata": {},
   "outputs": [
    {
     "name": "stdout",
     "output_type": "stream",
     "text": [
      "updated dictionary: {'name': 'john', 'city': 'delhi', 'gender': 'male'}\n"
     ]
    }
   ],
   "source": [
    "#final updated dictionary\n",
    "print(\"updated dictionary:\",my_dict)"
   ]
  },
  {
   "cell_type": "code",
   "execution_count": 9,
   "id": "f5c2cd16-2d3f-4465-91eb-329a5eed69af",
   "metadata": {},
   "outputs": [
    {
     "name": "stdout",
     "output_type": "stream",
     "text": [
      "original set {1, 2, 3, 4, 5}\n"
     ]
    }
   ],
   "source": [
    "#creating a set\n",
    "my_set = {1,2,3,4,5}\n",
    "\n",
    "print(\"original set\" ,my_set)"
   ]
  },
  {
   "cell_type": "code",
   "execution_count": 10,
   "id": "2a977e02-4979-4926-9f2d-4f54af0d7283",
   "metadata": {},
   "outputs": [
    {
     "name": "stdout",
     "output_type": "stream",
     "text": [
      "new set: {1, 2, 3, 4, 5, 10}\n"
     ]
    }
   ],
   "source": [
    "#adding a new element in set\n",
    "my_set.add(10)\n",
    "print(\"new set:\",my_set)\n"
   ]
  },
  {
   "cell_type": "code",
   "execution_count": 11,
   "id": "03c818e9-e2c8-43a6-bc0b-b0d4b70f28ca",
   "metadata": {},
   "outputs": [
    {
     "name": "stdout",
     "output_type": "stream",
     "text": [
      "new set: {1, 2, 3, 5, 10}\n"
     ]
    }
   ],
   "source": [
    "#removing an element\n",
    "my_set.remove(4)\n",
    "print(\"new set:\" , my_set)"
   ]
  },
  {
   "cell_type": "code",
   "execution_count": 12,
   "id": "5c5bd093-2c0c-4696-a6d1-fddb6ff68ac8",
   "metadata": {},
   "outputs": [
    {
     "name": "stdout",
     "output_type": "stream",
     "text": [
      "new set: {1, 2, 3, 50, 10}\n"
     ]
    }
   ],
   "source": [
    "#modifying the set\n",
    "my_set.discard(5)\n",
    "my_set.add(50)\n",
    "print(\"new set:\", my_set)"
   ]
  },
  {
   "cell_type": "code",
   "execution_count": 13,
   "id": "4e8d33f7-5eda-44f8-aad6-901cd0371db7",
   "metadata": {},
   "outputs": [
    {
     "name": "stdout",
     "output_type": "stream",
     "text": [
      "updated set: {1, 2, 3, 50, 10}\n"
     ]
    }
   ],
   "source": [
    "#final updated set\n",
    "print(\"updated set:\",my_set)"
   ]
  },
  {
   "cell_type": "code",
   "execution_count": null,
   "id": "22577511-edd6-4b36-b607-385dd8382dea",
   "metadata": {},
   "outputs": [],
   "source": []
  }
 ],
 "metadata": {
  "kernelspec": {
   "display_name": "Python 3 (ipykernel)",
   "language": "python",
   "name": "python3"
  },
  "language_info": {
   "codemirror_mode": {
    "name": "ipython",
    "version": 3
   },
   "file_extension": ".py",
   "mimetype": "text/x-python",
   "name": "python",
   "nbconvert_exporter": "python",
   "pygments_lexer": "ipython3",
   "version": "3.12.6"
  }
 },
 "nbformat": 4,
 "nbformat_minor": 5
}
